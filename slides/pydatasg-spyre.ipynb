{
 "metadata": {
  "name": "",
  "signature": "sha256:d94d8d8250070d1474028236720d4fc9d5b78c45f8d6cd92b357130fe5de2382"
 },
 "nbformat": 3,
 "nbformat_minor": 0,
 "worksheets": [
  {
   "cells": [
    {
     "cell_type": "heading",
     "level": 1,
     "metadata": {},
     "source": [
      "Getting Started with Spyre"
     ]
    },
    {
     "cell_type": "markdown",
     "metadata": {},
     "source": [
      "Spyre is a web application framework for Python that you can use to convert data analysis into simple interactive web applications without the need to know HTML, CSS, and JavaScript. Spyre is inspired by <a href=\"http://shiny.rstudio.com/\">Shiny</a> which is a similar framework for R."
     ]
    },
    {
     "cell_type": "heading",
     "level": 2,
     "metadata": {},
     "source": [
      "Installing Spyre"
     ]
    },
    {
     "cell_type": "markdown",
     "metadata": {},
     "source": [
      "Spyre depends on the following packages:\n",
      " - <a href=\"http://www.cherrypy.org/\">cherrypy</a> (a minimalist web framework)\n",
      " - <a href=\"http://jinja.pocoo.org/\">jinja2</a> (a full featured template engine)\n",
      " - <a href=\"http://matplotlib.org/\">matplotlib</a> (a 2D plotting library)\n",
      " - <a href=\"http://pandas.pydata.org/\">pandas</a> (for data manipulation and analysis)\n",
      " \n",
      "The dependencies will be taken care of when you install Spyre.\n",
      "\n",
      "```bash\n",
      "$ pip install dataspyre\n",
      "```"
     ]
    },
    {
     "cell_type": "heading",
     "level": 2,
     "metadata": {},
     "source": [
      "Python and Packages Versions"
     ]
    },
    {
     "cell_type": "code",
     "collapsed": false,
     "input": [
      "#%install_ext http://raw.github.com/jrjohansson/version_information/master/version_information.py\n",
      "%load_ext version_information\n",
      "%version_information cherrypy, jinja2, matplotlib, dataspyre, pandas, numpy"
     ],
     "language": "python",
     "metadata": {},
     "outputs": [
      {
       "html": [
        "<table><tr><th>Software</th><th>Version</th></tr><tr><td>Python</td><td>2.7.8 64bit [GCC 4.2.1 (Apple Inc. build 5577)]</td></tr><tr><td>IPython</td><td>2.2.0</td></tr><tr><td>OS</td><td>Darwin 14.0.0 x86_64 i386 64bit</td></tr><tr><td>cherrypy</td><td>3.6.0</td></tr><tr><td>jinja2</td><td>2.7.3</td></tr><tr><td>matplotlib</td><td>1.4.0</td></tr><tr><td>dataspyre</td><td>0.1.6</td></tr><tr><td>pandas</td><td>0.14.1</td></tr><tr><td>numpy</td><td>1.9.0</td></tr><tr><td colspan='2'>Sat Jan 10 22:26:33 2015 SGT</td></tr></table>"
       ],
       "json": [
        "{\"Software versions\": [{\"version\": \"2.7.8 64bit [GCC 4.2.1 (Apple Inc. build 5577)]\", \"module\": \"Python\"}, {\"version\": \"2.2.0\", \"module\": \"IPython\"}, {\"version\": \"Darwin 14.0.0 x86_64 i386 64bit\", \"module\": \"OS\"}, {\"version\": \"3.6.0\", \"module\": \"cherrypy\"}, {\"version\": \"2.7.3\", \"module\": \"jinja2\"}, {\"version\": \"1.4.0\", \"module\": \"matplotlib\"}, {\"version\": \"0.1.6\", \"module\": \"dataspyre\"}, {\"version\": \"0.14.1\", \"module\": \"pandas\"}, {\"version\": \"1.9.0\", \"module\": \"numpy\"}]}"
       ],
       "latex": [
        "\\begin{tabular}{|l|l|}\\hline\n",
        "{\\bf Software} & {\\bf Version} \\\\ \\hline\\hline\n",
        "Python & 2.7.8 64bit [GCC 4.2.1 (Apple Inc. build 5577)] \\\\ \\hline\n",
        "IPython & 2.2.0 \\\\ \\hline\n",
        "OS & Darwin 14.0.0 x86\\_64 i386 64bit \\\\ \\hline\n",
        "cherrypy & 3.6.0 \\\\ \\hline\n",
        "jinja2 & 2.7.3 \\\\ \\hline\n",
        "matplotlib & 1.4.0 \\\\ \\hline\n",
        "dataspyre & 0.1.6 \\\\ \\hline\n",
        "pandas & 0.14.1 \\\\ \\hline\n",
        "numpy & 1.9.0 \\\\ \\hline\n",
        "\\hline \\multicolumn{2}{|l|}{Sat Jan 10 22:26:33 2015 SGT} \\\\ \\hline\n",
        "\\end{tabular}\n"
       ],
       "metadata": {},
       "output_type": "pyout",
       "prompt_number": 1,
       "text": [
        "Software versions\n",
        "Python 2.7.8 64bit [GCC 4.2.1 (Apple Inc. build 5577)]\n",
        "IPython 2.2.0\n",
        "OS Darwin 14.0.0 x86_64 i386 64bit\n",
        "cherrypy 3.6.0\n",
        "jinja2 2.7.3\n",
        "matplotlib 1.4.0\n",
        "dataspyre 0.1.6\n",
        "pandas 0.14.1\n",
        "numpy 1.9.0\n",
        "Sat Jan 10 22:26:33 2015 SGT"
       ]
      }
     ],
     "prompt_number": 1
    },
    {
     "cell_type": "heading",
     "level": 2,
     "metadata": {},
     "source": [
      "Fixing a Runtime Issue"
     ]
    },
    {
     "cell_type": "markdown",
     "metadata": {},
     "source": [
      "Spyre 0.1.6 requires some minor modifications to work around a runtime issue. If you try to run a spyre application, you may see the following error:\n",
      "\n",
      "```bash\n",
      "$ python simple_app.py\n",
      "Traceback (most recent call last):\n",
      "  File \"simple_app.py\", line 1, in <module>\n",
      "    from spyre import server\n",
      "  File \"/Users/eugene/anaconda/lib/python2.7/site-packages/spyre/server.py\", line 10, in <module>\n",
      "    import View\n",
      "ImportError: No module named View\n",
      "```\n",
      "\n",
      "To fix this, download and apply the patch from my <a href=\"https://github.com/eugeneteo/pydatasg-spyre\">pydatasg-spyre</a> github repository.\n",
      "\n",
      "```bash\n",
      "$ cd /Users/eugene/anaconda/lib/python2.7/site-packages/spyre/\n",
      "$ patch -p1 < ~/dataspyre-0.1.6.patch\n",
      "patching file server.py\n",
      "```"
     ]
    },
    {
     "cell_type": "heading",
     "level": 2,
     "metadata": {},
     "source": [
      "A Simple Example"
     ]
    },
    {
     "cell_type": "markdown",
     "metadata": {},
     "source": [
      "This is the bare minimum you can write for a spyre app.\n",
      "\n",
      "For each app, you need to inherit the `server.App` class. To launch it, you can call the app's `launch()` function. By default, it will bind the port 8080 on localhost. You can change the default by specifying both the `host` and `port` arguments to the `launch()` function.\n",
      "\n",
      "Note that you cannot call the `launch()` function from the IPython notebook. You should run the script on the command-line."
     ]
    },
    {
     "cell_type": "code",
     "collapsed": false,
     "input": [
      "from spyre import server\n",
      "\n",
      "class SimpleApp(server.App):\n",
      "    pass\n",
      "\n",
      "app = SimpleApp()\n",
      "# app.launch()"
     ],
     "language": "python",
     "metadata": {},
     "outputs": [],
     "prompt_number": 2
    },
    {
     "cell_type": "markdown",
     "metadata": {},
     "source": [
      "Let's improve the above script based on the <a href=\"https://github.com/adamhajari/spyre/blob/4ae2ef12ed4332b2ef5f0541c2a6bd33c1b0726b/examples/simple_sine_example.py\">`simple_sine_wave.py`</a> example.\n",
      "\n",
      "There are three variables from the `App` class that we can override to build the user interface: inputs, outputs, and controls, although the third type is not always necessary."
     ]
    },
    {
     "cell_type": "code",
     "collapsed": false,
     "input": [
      "inputs = [{ \"input_type\": \"text\",\n",
      "           \"variable_name\": \"freq\",\n",
      "           \"value\": 5,\n",
      "           \"action_id\": \"sine_wave_plot\"}]\n",
      "\n",
      "outputs = [{\"output_type\": \"plot\",\n",
      "            \"output_id\": \"sine_wave_plot\",\n",
      "            \"on_page_load\": True }]"
     ],
     "language": "python",
     "metadata": {},
     "outputs": [],
     "prompt_number": 3
    },
    {
     "cell_type": "markdown",
     "metadata": {},
     "source": [
      "The `input_type` can be text, slider, dropdown, radiobutton, or checkbox group. The input value is stored in the `freq` variable name that has a value of 5 by default.\n",
      "\n",
      "The `action_id` is a reference to the `output_id` of an output element. Both are related. An update to the text field will trigger an update to the output.\n",
      "\n",
      "Next, you need to override the `getPlot()` method to generate the plot."
     ]
    },
    {
     "cell_type": "code",
     "collapsed": false,
     "input": [
      "import numpy as np\n",
      "from matplotlib import pyplot as plt\n",
      "\n",
      "def getPlot(self, params):\n",
      "    f = int(params['freq'])\n",
      "    # numpy.arange([start, ]stop, [step, ]dtype=None)\n",
      "    x = np.arange(0, 2 * np.pi, np.pi / 150)\n",
      "    y = np.sin(f * x)\n",
      "    plt.plot(x, y)\n",
      "    return plt.gcf()"
     ],
     "language": "python",
     "metadata": {},
     "outputs": [],
     "prompt_number": 4
    },
    {
     "cell_type": "markdown",
     "metadata": {},
     "source": [
      "The `getPlot()` method will return the current figure.\n",
      "\n",
      "Putting all the code together, we have:"
     ]
    },
    {
     "cell_type": "code",
     "collapsed": false,
     "input": [
      "from spyre import server\n",
      "import numpy as np\n",
      "from matplotlib import pyplot as plt\n",
      "\n",
      "class SimpleApp(server.App):\n",
      "    title = \"Simple Sine App\"\n",
      "    \n",
      "    inputs = [{ \"input_type\": \"text\",\n",
      "               \"variable_name\": \"freq\",\n",
      "               \"value\": 5,\n",
      "               \"action_id\": \"sine_wave_plot\"}]\n",
      "    \n",
      "    outputs = [{\"output_type\": \"plot\",\n",
      "                \"output_id\": \"sine_wave_plot\",\n",
      "                \"on_page_load\": True }]\n",
      "    \n",
      "    def getPlot(self, params):\n",
      "        f = int(params['freq'])\n",
      "        # numpy.arange([start, ]stop, [step, ]dtype=None)\n",
      "        x = np.arange(0, 2 * np.pi, np.pi / 150)\n",
      "        y = np.sin(f * x)\n",
      "        plt.plot(x, y)\n",
      "        return plt.gcf()\n",
      "    \n",
      "app = SimpleApp()\n",
      "# app.launch()"
     ],
     "language": "python",
     "metadata": {},
     "outputs": [],
     "prompt_number": 5
    },
    {
     "cell_type": "markdown",
     "metadata": {},
     "source": [
      "When you run the spyre app, it should look like the following screenshot:"
     ]
    },
    {
     "cell_type": "code",
     "collapsed": false,
     "input": [
      "from IPython.display import Image\n",
      "Image(url = \"https://raw.githubusercontent.com/adamhajari/spyre/4ae2ef12ed4332b2ef5f0541c2a6bd33c1b0726b/examples/screenshots/simple_sine_screenshot.png\")"
     ],
     "language": "python",
     "metadata": {},
     "outputs": [
      {
       "html": [
        "<img src=\"https://raw.githubusercontent.com/adamhajari/spyre/4ae2ef12ed4332b2ef5f0541c2a6bd33c1b0726b/examples/screenshots/simple_sine_screenshot.png\"/>"
       ],
       "metadata": {},
       "output_type": "pyout",
       "prompt_number": 6,
       "text": [
        "<IPython.core.display.Image at 0x108268890>"
       ]
      }
     ],
     "prompt_number": 6
    },
    {
     "cell_type": "heading",
     "level": 2,
     "metadata": {},
     "source": [
      "Another Example"
     ]
    },
    {
     "cell_type": "code",
     "collapsed": false,
     "input": [
      "%matplotlib inline\n",
      "\n",
      "import pandas as pd\n",
      "from pandas.io.data import DataReader\n",
      "import numpy as np\n",
      "\n",
      "def getData(params):\n",
      "    ticker = params['ticker']\n",
      "    df = DataReader(ticker, 'yahoo', '2007-01-01')\n",
      "    df['mavg'] = pd.rolling_mean(df['Adj Close'], 200)\n",
      "    return df\n",
      "\n",
      "params = {'ticker': 'ES3.SI'} # STI ETF\n",
      "df = getData(params)\n",
      "df['Adj Close'].plot(label = params['ticker'])\n",
      "df['mavg'].plot(label = 'mavg')\n",
      "plt.legend(bbox_to_anchor=(1.05, 1), loc=2, borderaxespad=0.)\n",
      "\n",
      "df.head()"
     ],
     "language": "python",
     "metadata": {},
     "outputs": [
      {
       "html": [
        "<div style=\"max-height:1000px;max-width:1500px;overflow:auto;\">\n",
        "<table border=\"1\" class=\"dataframe\">\n",
        "  <thead>\n",
        "    <tr style=\"text-align: right;\">\n",
        "      <th></th>\n",
        "      <th>Open</th>\n",
        "      <th>High</th>\n",
        "      <th>Low</th>\n",
        "      <th>Close</th>\n",
        "      <th>Volume</th>\n",
        "      <th>Adj Close</th>\n",
        "      <th>mavg</th>\n",
        "    </tr>\n",
        "    <tr>\n",
        "      <th>Date</th>\n",
        "      <th></th>\n",
        "      <th></th>\n",
        "      <th></th>\n",
        "      <th></th>\n",
        "      <th></th>\n",
        "      <th></th>\n",
        "      <th></th>\n",
        "    </tr>\n",
        "  </thead>\n",
        "  <tbody>\n",
        "    <tr>\n",
        "      <th>2008-01-10</th>\n",
        "      <td> 3.69</td>\n",
        "      <td> 3.69</td>\n",
        "      <td> 3.64</td>\n",
        "      <td> 3.64</td>\n",
        "      <td>  29000</td>\n",
        "      <td> 3.40</td>\n",
        "      <td>NaN</td>\n",
        "    </tr>\n",
        "    <tr>\n",
        "      <th>2008-01-11</th>\n",
        "      <td> 3.65</td>\n",
        "      <td> 3.66</td>\n",
        "      <td> 3.64</td>\n",
        "      <td> 3.64</td>\n",
        "      <td>  27000</td>\n",
        "      <td> 3.40</td>\n",
        "      <td>NaN</td>\n",
        "    </tr>\n",
        "    <tr>\n",
        "      <th>2008-01-14</th>\n",
        "      <td> 3.60</td>\n",
        "      <td> 3.60</td>\n",
        "      <td> 3.48</td>\n",
        "      <td> 3.48</td>\n",
        "      <td>  79000</td>\n",
        "      <td> 3.26</td>\n",
        "      <td>NaN</td>\n",
        "    </tr>\n",
        "    <tr>\n",
        "      <th>2008-01-15</th>\n",
        "      <td> 3.47</td>\n",
        "      <td> 3.47</td>\n",
        "      <td> 3.38</td>\n",
        "      <td> 3.39</td>\n",
        "      <td> 171000</td>\n",
        "      <td> 3.17</td>\n",
        "      <td>NaN</td>\n",
        "    </tr>\n",
        "    <tr>\n",
        "      <th>2008-01-16</th>\n",
        "      <td> 3.39</td>\n",
        "      <td> 3.39</td>\n",
        "      <td> 3.24</td>\n",
        "      <td> 3.30</td>\n",
        "      <td> 173000</td>\n",
        "      <td> 3.09</td>\n",
        "      <td>NaN</td>\n",
        "    </tr>\n",
        "  </tbody>\n",
        "</table>\n",
        "</div>"
       ],
       "metadata": {},
       "output_type": "pyout",
       "prompt_number": 7,
       "text": [
        "            Open  High   Low  Close  Volume  Adj Close  mavg\n",
        "Date                                                        \n",
        "2008-01-10  3.69  3.69  3.64   3.64   29000       3.40   NaN\n",
        "2008-01-11  3.65  3.66  3.64   3.64   27000       3.40   NaN\n",
        "2008-01-14  3.60  3.60  3.48   3.48   79000       3.26   NaN\n",
        "2008-01-15  3.47  3.47  3.38   3.39  171000       3.17   NaN\n",
        "2008-01-16  3.39  3.39  3.24   3.30  173000       3.09   NaN"
       ]
      },
      {
       "metadata": {},
       "output_type": "display_data",
       "png": "[encoded data removed]",
       "text": [
        "<matplotlib.figure.Figure at 0x108296c90>"
       ]
      }
     ],
     "prompt_number": 7
    },
    {
     "cell_type": "code",
     "collapsed": false,
     "input": [
      "from spyre import server\n",
      "import pandas as pd\n",
      "from pandas.io.data import DataReader\n",
      "import numpy as np\n",
      "\n",
      "class StockExample(server.App):\n",
      "    title = \"SG Offshore & Marine\"\n",
      "    \n",
      "    inputs = [{\"input_type\": \"dropdown\",\n",
      "               \"label\": \"Company\",\n",
      "               \"options\": [{\"label\": \"Keppel Corporation\", \"value\": \"BN4.SI\"},\n",
      "                           {\"label\": \"SembCorp Industries\", \"value\": \"U96.SI\"},\n",
      "                           {\"label\": \"Sembcorp Marine\", \"value\": \"S51.SI\"},\n",
      "                           {\"label\": \"Cosco Corporation\", \"value\": \"F83.SI\"},\n",
      "                           {\"label\": \"Yangzijiang Shipbuilding\", \"value\": \"BS6.SI\"},\n",
      "                           {\"label\": \"Vard Holdings\", \"value\": \"MS7.SI\"},\n",
      "                           {\"label\": \"Nam Cheong\", \"value\": \"N4E.SI\"}],\n",
      "               \"variable_name\": \"ticker\",\n",
      "               \"action_id\": \"plot\"}]\n",
      "    \n",
      "    outputs = [{\"output_type\": \"plot\",\n",
      "                \"output_id\": \"plot\",\n",
      "                \"on_page_load\": True}]\n",
      "    \n",
      "    def getData(self, params):\n",
      "        ticker = params['ticker']\n",
      "        df = DataReader(ticker, 'yahoo', '2007-01-01')\n",
      "        df['mavg'] = pd.rolling_mean(df['Adj Close'], 200)\n",
      "        return df\n",
      "    \n",
      "    def getPlot(self, params):\n",
      "        df = self.getData(params)\n",
      "        plt_obj = df['Adj Close'].plot(label = params['ticker'])\n",
      "        plt_obj = df['mavg'].plot(label = 'mavg')\n",
      "        plt_obj.legend(bbox_to_anchor=(1.05, 1), loc=2, borderaxespad=0.)\n",
      "        fig = plt_obj.get_figure()\n",
      "        return fig\n",
      "\n",
      "app = StockExample()\n",
      "# app.launch()"
     ],
     "language": "python",
     "metadata": {},
     "outputs": [],
     "prompt_number": 8
    },
    {
     "cell_type": "heading",
     "level": 2,
     "metadata": {},
     "source": [
      "Further Reading"
     ]
    },
    {
     "cell_type": "markdown",
     "metadata": {},
     "source": [
      "* https://github.com/adamhajari/spyre\n",
      "* https://www.youtube.com/watch?v=jPSP9aMs_3U\n",
      "* https://gist.github.com/ihuston/d6aab5e4a811fe582fa7\n",
      "* http://www.slideshare.net/ihuston/python-on-cloud-foundry\n",
      "* http://www.ianhuston.net/2014/11/python-on-cloud-foundry\n",
      "* http://ih-spyre-test.cfapps.io/"
     ]
    },
    {
     "cell_type": "heading",
     "level": 2,
     "metadata": {},
     "source": [
      "Credits"
     ]
    },
    {
     "cell_type": "markdown",
     "metadata": {},
     "source": [
      "This presentation is based on <a href=\"https://twitter.com/adamhajari\">Adam Hajari</a>'s <a href=\"http://nbviewer.ipython.org/github/adamhajari/spyre/blob/master/tutorial/SpyrePresentation.ipynb\">talk</a> at <a href=\"http://pydata.org/nyc2014\">PyData NYC 2014</a>.\n",
      "\n",
      "I started playing with Spyre last weekend, so I'm still learning."
     ]
    },
    {
     "cell_type": "heading",
     "level": 2,
     "metadata": {},
     "source": [
      "Who Am I?"
     ]
    },
    {
     "cell_type": "markdown",
     "metadata": {},
     "source": [
      "<a href=\"http://www.twitter.com/eugeneteo\">@eugeneteo</a>"
     ]
    }
   ],
   "metadata": {}
  }
 ]
}